{
 "cells": [
  {
   "cell_type": "markdown",
   "metadata": {},
   "source": [
    "# Simulating A Midi File for Brian Eno's Music For Airports 2/1"
   ]
  },
  {
   "cell_type": "code",
   "execution_count": 1,
   "metadata": {},
   "outputs": [],
   "source": [
    "# Import modules\n",
    "from midiutil import MIDIFile\n",
    "import os\n",
    "import numpy as np"
   ]
  },
  {
   "cell_type": "code",
   "execution_count": 2,
   "metadata": {},
   "outputs": [],
   "source": [
    "# Define initial parameters\n",
    "track = 0\n",
    "time = 0    # In beats\n",
    "tempo = 60   # In BPM\n",
    "volume  = 100  # 0-127, as per the MIDI standard\n",
    "channel  = 0\n",
    "song_length = 3 # In minutes\n",
    "beats_in_song = song_length * tempo # BPM * Length of Song in minutes = Number of beats in song\n",
    "n_loops = 7 # Number of loops"
   ]
  },
  {
   "cell_type": "code",
   "execution_count": 3,
   "metadata": {},
   "outputs": [],
   "source": [
    "# Define properties of each loop using lists\n",
    "note_durations = [5, 5, 5, 5, 5, 5, 5] # in seconds\n",
    "loop_durations = [17.7, 19.6, 20.1, 16.2, 32.8, 21.3, 24.6] # in seconds\n",
    "note_pitches = [68, 65, 60, 63, 61, 56, 53] # 0-127, as per midi standard\n",
    "note_names = [\"High Ab\", \"High F\", \"C\", \"Eb\", \"Db\", \"Low Ab\", \"Low F\"]"
   ]
  },
  {
   "cell_type": "code",
   "execution_count": 4,
   "metadata": {},
   "outputs": [],
   "source": [
    "# Convert note_lengths and loop_durations from seconds to beats\n",
    "note_durations_in_beats = []\n",
    "for loop_index in range(n_loops):\n",
    "    \n",
    "    duration = (note_durations[loop_index] / 60) * tempo\n",
    "    \n",
    "    note_durations_in_beats.append(duration)\n",
    "    \n",
    "loop_durations_in_beats = []\n",
    "for loop_index in range(n_loops):\n",
    "    \n",
    "    duration = (loop_durations[loop_index] / 60) * tempo\n",
    "    \n",
    "    loop_durations_in_beats.append(duration)"
   ]
  },
  {
   "cell_type": "code",
   "execution_count": 5,
   "metadata": {},
   "outputs": [
    {
     "name": "stdout",
     "output_type": "stream",
     "text": [
      "loop_starts\n",
      "[3.2, 1.4, 25.8, 20.8, 6.5, 20.6, 26.2]\n"
     ]
    }
   ],
   "source": [
    "# Randomly determine where each loop begins\n",
    "\n",
    "# Get maximum length of loop\n",
    "max_loop_length = max(loop_durations_in_beats)\n",
    "\n",
    "loop_starts = []\n",
    "for loop_index in range(n_loops):\n",
    "    \n",
    "    # Choose a random number between 0 and max_loop_length\n",
    "    # using a function from the numpy package\n",
    "    start_point = round(np.random.uniform(low = 0.0, high = max_loop_length), 1)\n",
    "    \n",
    "    loop_starts.append(start_point)\n",
    "    \n",
    "print(\"loop_starts\")\n",
    "print(loop_starts)"
   ]
  },
  {
   "cell_type": "code",
   "execution_count": 6,
   "metadata": {},
   "outputs": [
    {
     "name": "stdout",
     "output_type": "stream",
     "text": [
      "Loop Note: High Ab Loop Duration: 17.7 beats Loop Index: 0 Loop Start: 3.2\n",
      "This loop will start again on each of these beats:\n",
      "3.2\n",
      "20.9\n",
      "38.6\n",
      "56.3\n",
      "74.0\n",
      "91.7\n",
      "109.4\n",
      "127.1\n",
      "144.8\n",
      "162.5\n",
      "Loop Note: High F Loop Duration: 19.6 beats Loop Index: 1 Loop Start: 1.4\n",
      "This loop will start again on each of these beats:\n",
      "1.4\n",
      "21.0\n",
      "40.6\n",
      "60.2\n",
      "79.8\n",
      "99.4\n",
      "119.0\n",
      "138.6\n",
      "158.2\n",
      "Loop Note: C Loop Duration: 20.1 beats Loop Index: 2 Loop Start: 25.8\n",
      "This loop will start again on each of these beats:\n",
      "25.8\n",
      "45.9\n",
      "66.0\n",
      "86.1\n",
      "106.2\n",
      "126.3\n",
      "146.4\n",
      "166.5\n",
      "Loop Note: Eb Loop Duration: 16.2 beats Loop Index: 3 Loop Start: 20.8\n",
      "This loop will start again on each of these beats:\n",
      "20.8\n",
      "37.0\n",
      "53.2\n",
      "69.4\n",
      "85.6\n",
      "101.8\n",
      "118.0\n",
      "134.2\n",
      "150.4\n",
      "166.6\n",
      "182.8\n",
      "Loop Note: Db Loop Duration: 32.8 beats Loop Index: 4 Loop Start: 6.5\n",
      "This loop will start again on each of these beats:\n",
      "6.5\n",
      "39.3\n",
      "72.1\n",
      "104.9\n",
      "137.7\n",
      "Loop Note: Low Ab Loop Duration: 21.3 beats Loop Index: 5 Loop Start: 20.6\n",
      "This loop will start again on each of these beats:\n",
      "20.6\n",
      "41.9\n",
      "63.2\n",
      "84.5\n",
      "105.8\n",
      "127.1\n",
      "148.4\n",
      "169.7\n",
      "Loop Note: Low F Loop Duration: 24.6 beats Loop Index: 6 Loop Start: 26.2\n",
      "This loop will start again on each of these beats:\n",
      "26.2\n",
      "50.8\n",
      "75.4\n",
      "100.0\n",
      "124.6\n",
      "149.2\n",
      "173.8\n"
     ]
    }
   ],
   "source": [
    "# Initialize empty list to hold the loop repeat data for all loops\n",
    "repeat_data = []\n",
    "\n",
    "for loop_index in range(n_loops):\n",
    "    \n",
    "    # Print information about current loop index to console\n",
    "    print(\"Loop Note:\", note_names[loop_index], \n",
    "          \"Loop Duration:\", loop_durations_in_beats[loop_index], \"beats\",\n",
    "          \"Loop Index:\", loop_index, \"Loop Start:\", loop_starts[loop_index])\n",
    "    \n",
    "    # Get duration and loop start values\n",
    "    duration = loop_durations_in_beats[loop_index]\n",
    "    start_point = loop_starts[loop_index]\n",
    "    \n",
    "    # Use integer division to get number of times the loop will repeat given the length of the song\n",
    "    loop_repeats = beats_in_song // duration\n",
    "    \n",
    "    # Initialize repeats list to hold repeat values for current loop\n",
    "    repeat_list = []\n",
    "    \n",
    "    print(\"This loop will start again on each of these beats:\")\n",
    "    for repeat in range(int(loop_repeats)):\n",
    "        \n",
    "        # Calculate beats where loop will repeat, adding in start_point to each\n",
    "        repeat = round(repeat * duration + start_point, 1) # round(x, 2) rounds to 2 decimal places\n",
    "        print(repeat)\n",
    "        \n",
    "        # Append (add) repeat value to repeat_list to 'save' it to the list\n",
    "        repeat_list.append(repeat)\n",
    "        \n",
    "    # Append the entire list to the repeat_list list.  So now we have a list of lists 0_o.\n",
    "    repeat_data.append(repeat_list)"
   ]
  },
  {
   "cell_type": "code",
   "execution_count": 7,
   "metadata": {
    "scrolled": false
   },
   "outputs": [
    {
     "data": {
      "text/plain": [
       "[[3.2, 20.9, 38.6, 56.3, 74.0, 91.7, 109.4, 127.1, 144.8, 162.5],\n",
       " [1.4, 21.0, 40.6, 60.2, 79.8, 99.4, 119.0, 138.6, 158.2],\n",
       " [25.8, 45.9, 66.0, 86.1, 106.2, 126.3, 146.4, 166.5],\n",
       " [20.8, 37.0, 53.2, 69.4, 85.6, 101.8, 118.0, 134.2, 150.4, 166.6, 182.8],\n",
       " [6.5, 39.3, 72.1, 104.9, 137.7],\n",
       " [20.6, 41.9, 63.2, 84.5, 105.8, 127.1, 148.4, 169.7],\n",
       " [26.2, 50.8, 75.4, 100.0, 124.6, 149.2, 173.8]]"
      ]
     },
     "execution_count": 7,
     "metadata": {},
     "output_type": "execute_result"
    }
   ],
   "source": [
    "repeat_data"
   ]
  },
  {
   "cell_type": "code",
   "execution_count": 8,
   "metadata": {},
   "outputs": [],
   "source": [
    "# Create a MIDIFile object\n",
    "MyMIDI = MIDIFile(1)\n",
    "MyMIDI.addTempo(track, time, tempo)"
   ]
  },
  {
   "cell_type": "code",
   "execution_count": 9,
   "metadata": {},
   "outputs": [
    {
     "name": "stdout",
     "output_type": "stream",
     "text": [
      "Loop Note: High Ab Loop Duration: 17.7 beats Loop Index: 0\n",
      "WRITING NOTE -- Pitch: 68 Repeat Time: 3.2 Duration: 3.0 Volume: 100\n",
      "WRITING NOTE -- Pitch: 68 Repeat Time: 20.9 Duration: 3.0 Volume: 100\n",
      "WRITING NOTE -- Pitch: 68 Repeat Time: 38.6 Duration: 3.0 Volume: 100\n",
      "WRITING NOTE -- Pitch: 68 Repeat Time: 56.3 Duration: 3.0 Volume: 100\n",
      "WRITING NOTE -- Pitch: 68 Repeat Time: 74.0 Duration: 3.0 Volume: 100\n",
      "WRITING NOTE -- Pitch: 68 Repeat Time: 91.7 Duration: 3.0 Volume: 100\n",
      "WRITING NOTE -- Pitch: 68 Repeat Time: 109.4 Duration: 3.0 Volume: 100\n",
      "WRITING NOTE -- Pitch: 68 Repeat Time: 127.1 Duration: 3.0 Volume: 100\n",
      "WRITING NOTE -- Pitch: 68 Repeat Time: 144.8 Duration: 3.0 Volume: 100\n",
      "WRITING NOTE -- Pitch: 68 Repeat Time: 162.5 Duration: 3.0 Volume: 100\n",
      "Loop Note: High F Loop Duration: 19.6 beats Loop Index: 1\n",
      "WRITING NOTE -- Pitch: 65 Repeat Time: 1.4 Duration: 5.0 Volume: 100\n",
      "WRITING NOTE -- Pitch: 65 Repeat Time: 21.0 Duration: 5.0 Volume: 100\n",
      "WRITING NOTE -- Pitch: 65 Repeat Time: 40.6 Duration: 5.0 Volume: 100\n",
      "WRITING NOTE -- Pitch: 65 Repeat Time: 60.2 Duration: 5.0 Volume: 100\n",
      "WRITING NOTE -- Pitch: 65 Repeat Time: 79.8 Duration: 5.0 Volume: 100\n",
      "WRITING NOTE -- Pitch: 65 Repeat Time: 99.4 Duration: 5.0 Volume: 100\n",
      "WRITING NOTE -- Pitch: 65 Repeat Time: 119.0 Duration: 5.0 Volume: 100\n",
      "WRITING NOTE -- Pitch: 65 Repeat Time: 138.6 Duration: 5.0 Volume: 100\n",
      "WRITING NOTE -- Pitch: 65 Repeat Time: 158.2 Duration: 5.0 Volume: 100\n",
      "Loop Note: C Loop Duration: 20.1 beats Loop Index: 2\n",
      "WRITING NOTE -- Pitch: 60 Repeat Time: 25.8 Duration: 4.0 Volume: 100\n",
      "WRITING NOTE -- Pitch: 60 Repeat Time: 45.9 Duration: 4.0 Volume: 100\n",
      "WRITING NOTE -- Pitch: 60 Repeat Time: 66.0 Duration: 4.0 Volume: 100\n",
      "WRITING NOTE -- Pitch: 60 Repeat Time: 86.1 Duration: 4.0 Volume: 100\n",
      "WRITING NOTE -- Pitch: 60 Repeat Time: 106.2 Duration: 4.0 Volume: 100\n",
      "WRITING NOTE -- Pitch: 60 Repeat Time: 126.3 Duration: 4.0 Volume: 100\n",
      "WRITING NOTE -- Pitch: 60 Repeat Time: 146.4 Duration: 4.0 Volume: 100\n",
      "WRITING NOTE -- Pitch: 60 Repeat Time: 166.5 Duration: 4.0 Volume: 100\n",
      "Loop Note: Eb Loop Duration: 16.2 beats Loop Index: 3\n",
      "WRITING NOTE -- Pitch: 63 Repeat Time: 20.8 Duration: 2.0 Volume: 100\n",
      "WRITING NOTE -- Pitch: 63 Repeat Time: 37.0 Duration: 2.0 Volume: 100\n",
      "WRITING NOTE -- Pitch: 63 Repeat Time: 53.2 Duration: 2.0 Volume: 100\n",
      "WRITING NOTE -- Pitch: 63 Repeat Time: 69.4 Duration: 2.0 Volume: 100\n",
      "WRITING NOTE -- Pitch: 63 Repeat Time: 85.6 Duration: 2.0 Volume: 100\n",
      "WRITING NOTE -- Pitch: 63 Repeat Time: 101.8 Duration: 2.0 Volume: 100\n",
      "WRITING NOTE -- Pitch: 63 Repeat Time: 118.0 Duration: 2.0 Volume: 100\n",
      "WRITING NOTE -- Pitch: 63 Repeat Time: 134.2 Duration: 2.0 Volume: 100\n",
      "WRITING NOTE -- Pitch: 63 Repeat Time: 150.4 Duration: 2.0 Volume: 100\n",
      "WRITING NOTE -- Pitch: 63 Repeat Time: 166.6 Duration: 2.0 Volume: 100\n",
      "WRITING NOTE -- Pitch: 63 Repeat Time: 182.8 Duration: 2.0 Volume: 100\n",
      "Loop Note: Db Loop Duration: 32.8 beats Loop Index: 4\n",
      "WRITING NOTE -- Pitch: 61 Repeat Time: 6.5 Duration: 4.0 Volume: 100\n",
      "WRITING NOTE -- Pitch: 61 Repeat Time: 39.3 Duration: 4.0 Volume: 100\n",
      "WRITING NOTE -- Pitch: 61 Repeat Time: 72.1 Duration: 4.0 Volume: 100\n",
      "WRITING NOTE -- Pitch: 61 Repeat Time: 104.9 Duration: 4.0 Volume: 100\n",
      "WRITING NOTE -- Pitch: 61 Repeat Time: 137.7 Duration: 4.0 Volume: 100\n",
      "Loop Note: Low Ab Loop Duration: 21.3 beats Loop Index: 5\n",
      "WRITING NOTE -- Pitch: 56 Repeat Time: 20.6 Duration: 5.0 Volume: 100\n",
      "WRITING NOTE -- Pitch: 56 Repeat Time: 41.9 Duration: 5.0 Volume: 100\n",
      "WRITING NOTE -- Pitch: 56 Repeat Time: 63.2 Duration: 5.0 Volume: 100\n",
      "WRITING NOTE -- Pitch: 56 Repeat Time: 84.5 Duration: 5.0 Volume: 100\n",
      "WRITING NOTE -- Pitch: 56 Repeat Time: 105.8 Duration: 5.0 Volume: 100\n",
      "WRITING NOTE -- Pitch: 56 Repeat Time: 127.1 Duration: 5.0 Volume: 100\n",
      "WRITING NOTE -- Pitch: 56 Repeat Time: 148.4 Duration: 5.0 Volume: 100\n",
      "WRITING NOTE -- Pitch: 56 Repeat Time: 169.7 Duration: 5.0 Volume: 100\n",
      "Loop Note: Low F Loop Duration: 24.6 beats Loop Index: 6\n",
      "WRITING NOTE -- Pitch: 53 Repeat Time: 26.2 Duration: 4.0 Volume: 100\n",
      "WRITING NOTE -- Pitch: 53 Repeat Time: 50.8 Duration: 4.0 Volume: 100\n",
      "WRITING NOTE -- Pitch: 53 Repeat Time: 75.4 Duration: 4.0 Volume: 100\n",
      "WRITING NOTE -- Pitch: 53 Repeat Time: 100.0 Duration: 4.0 Volume: 100\n",
      "WRITING NOTE -- Pitch: 53 Repeat Time: 124.6 Duration: 4.0 Volume: 100\n",
      "WRITING NOTE -- Pitch: 53 Repeat Time: 149.2 Duration: 4.0 Volume: 100\n",
      "WRITING NOTE -- Pitch: 53 Repeat Time: 173.8 Duration: 4.0 Volume: 100\n"
     ]
    }
   ],
   "source": [
    "# Iterate over each loop\n",
    "for loop_index in range(n_loops):\n",
    "    \n",
    "    # Print information about current loop index to console\n",
    "    print(\"Loop Note:\", note_names[loop_index], \n",
    "          \"Loop Duration:\", loop_durations_in_beats[loop_index], \"beats\",\n",
    "          \"Loop Index:\", loop_index,)\n",
    "    \n",
    "    # Get the MIDI pitch and note duration of the current loop\n",
    "    pitch = note_pitches[loop_index]\n",
    "    duration = note_durations_in_beats[loop_index]\n",
    "    # Get the repeat times for the current loop\n",
    "    repeats = repeat_data[loop_index]\n",
    "    \n",
    "    # Iterate over each repeat\n",
    "    for repeat in repeats:\n",
    "        \n",
    "        # Write information about each note to console\n",
    "        print(\"WRITING NOTE -- Pitch:\", pitch, \"Repeat Time:\", repeat, \"Duration:\", duration, \"Volume:\", volume)\n",
    "        \n",
    "        # Write a midi note for each repeat\n",
    "        MyMIDI.addNote(track, channel, pitch, repeat, duration, volume)"
   ]
  },
  {
   "cell_type": "code",
   "execution_count": 10,
   "metadata": {},
   "outputs": [],
   "source": [
    "# Write MyMIDI object to a MIDI file\n",
    "with open(\"my_Music_For_Airports_2_1.mid\", \"wb\") as output_file:\n",
    "    MyMIDI.writeFile(output_file)"
   ]
  }
 ],
 "metadata": {
  "kernelspec": {
   "display_name": "Python 3",
   "language": "python",
   "name": "python3"
  },
  "language_info": {
   "codemirror_mode": {
    "name": "ipython",
    "version": 3
   },
   "file_extension": ".py",
   "mimetype": "text/x-python",
   "name": "python",
   "nbconvert_exporter": "python",
   "pygments_lexer": "ipython3",
   "version": "3.7.6"
  }
 },
 "nbformat": 4,
 "nbformat_minor": 4
}
