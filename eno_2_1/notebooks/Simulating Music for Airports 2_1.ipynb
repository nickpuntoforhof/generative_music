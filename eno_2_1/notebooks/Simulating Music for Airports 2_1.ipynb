{
 "cells": [
  {
   "cell_type": "markdown",
   "metadata": {},
   "source": [
    "# Simulating A Midi File for Brian Eno's Music For Airports 2/1"
   ]
  },
  {
   "cell_type": "code",
   "execution_count": 1,
   "metadata": {},
   "outputs": [],
   "source": [
    "# Import modules\n",
    "from midiutil import MIDIFile\n",
    "import os\n",
    "import numpy as np"
   ]
  },
  {
   "cell_type": "code",
   "execution_count": 2,
   "metadata": {},
   "outputs": [],
   "source": [
    "# Define initial parameters\n",
    "track = 0\n",
    "time = 0    # In beats\n",
    "tempo = 60   # In BPM\n",
    "volume  = 100  # 0-127, as per the MIDI standard\n",
    "channel  = 0\n",
    "song_length = 3 # In minutes\n",
    "beats_in_song = song_length * tempo # BPM * Length of Song in minutes = Number of beats in song\n",
    "n_loops = 7 # Number of loops"
   ]
  },
  {
   "cell_type": "code",
   "execution_count": 3,
   "metadata": {},
   "outputs": [],
   "source": [
    "# Define properties of each loop using lists\n",
    "note_durations = [5, 5, 5, 5, 5, 5, 5] # in seconds\n",
    "loop_durations = [17.7, 19.6, 20.1, 16.2, 32.8, 21.3, 24.6] # in seconds\n",
    "note_pitches = [68, 65, 60, 63, 61, 56, 53] # 0-127, as per midi standard\n",
    "note_names = [\"High Ab\", \"High F\", \"C\", \"Eb\", \"Db\", \"Low Ab\", \"Low F\"]"
   ]
  },
  {
   "cell_type": "code",
   "execution_count": 4,
   "metadata": {},
   "outputs": [],
   "source": [
    "# Convert note_lengths and loop_durations from seconds to beats\n",
    "note_durations_in_beats = []\n",
    "for loop_index in range(n_loops):\n",
    "    \n",
    "    duration = (note_durations[loop_index] / 60) * tempo\n",
    "    \n",
    "    note_durations_in_beats.append(duration)\n",
    "    \n",
    "loop_durations_in_beats = []\n",
    "for loop_index in range(n_loops):\n",
    "    \n",
    "    duration = (loop_durations[loop_index] / 60) * tempo\n",
    "    \n",
    "    loop_durations_in_beats.append(duration)"
   ]
  },
  {
   "cell_type": "code",
   "execution_count": 5,
   "metadata": {},
   "outputs": [
    {
     "name": "stdout",
     "output_type": "stream",
     "text": [
      "loop_starts\n",
      "[6.9, 13.2, 18.6, 1.1, 22.8, 21.6, 16.1]\n"
     ]
    }
   ],
   "source": [
    "# Randomly determine where each loop begins\n",
    "\n",
    "# Get maximum length of loop\n",
    "max_loop_length = max(loop_durations_in_beats)\n",
    "\n",
    "loop_starts = []\n",
    "for loop_index in range(n_loops):\n",
    "    \n",
    "    # Choose a random number between 0 and max_loop_length\n",
    "    # using a function from the numpy package\n",
    "    start_point = round(np.random.uniform(low = 0.0, high = max_loop_length), 2)\n",
    "    \n",
    "    loop_starts.append(start_point)\n",
    "    \n",
    "print(\"loop_starts\")\n",
    "print(loop_starts)"
   ]
  },
  {
   "cell_type": "code",
   "execution_count": 6,
   "metadata": {},
   "outputs": [
    {
     "name": "stdout",
     "output_type": "stream",
     "text": [
      "Loop Note: High Ab Loop Duration: 17.7 beats Loop Index: 0 Loop Start: 6.9\n",
      "This loop will start again on each of these beats:\n",
      "6.9\n",
      "24.6\n",
      "42.3\n",
      "60.0\n",
      "77.7\n",
      "95.4\n",
      "113.1\n",
      "130.8\n",
      "148.5\n",
      "166.2\n",
      "Loop Note: High F Loop Duration: 19.6 beats Loop Index: 1 Loop Start: 13.2\n",
      "This loop will start again on each of these beats:\n",
      "13.2\n",
      "32.8\n",
      "52.4\n",
      "72.0\n",
      "91.6\n",
      "111.2\n",
      "130.8\n",
      "150.4\n",
      "170.0\n",
      "Loop Note: C Loop Duration: 20.1 beats Loop Index: 2 Loop Start: 18.6\n",
      "This loop will start again on each of these beats:\n",
      "18.6\n",
      "38.7\n",
      "58.8\n",
      "78.9\n",
      "99.0\n",
      "119.1\n",
      "139.2\n",
      "159.3\n",
      "Loop Note: Eb Loop Duration: 16.2 beats Loop Index: 3 Loop Start: 1.1\n",
      "This loop will start again on each of these beats:\n",
      "1.1\n",
      "17.3\n",
      "33.5\n",
      "49.7\n",
      "65.9\n",
      "82.1\n",
      "98.3\n",
      "114.5\n",
      "130.7\n",
      "146.9\n",
      "163.1\n",
      "Loop Note: Db Loop Duration: 32.8 beats Loop Index: 4 Loop Start: 22.8\n",
      "This loop will start again on each of these beats:\n",
      "22.8\n",
      "55.6\n",
      "88.4\n",
      "121.2\n",
      "154.0\n",
      "Loop Note: Low Ab Loop Duration: 21.3 beats Loop Index: 5 Loop Start: 21.6\n",
      "This loop will start again on each of these beats:\n",
      "21.6\n",
      "42.9\n",
      "64.2\n",
      "85.5\n",
      "106.8\n",
      "128.1\n",
      "149.4\n",
      "170.7\n",
      "Loop Note: Low F Loop Duration: 24.6 beats Loop Index: 6 Loop Start: 16.1\n",
      "This loop will start again on each of these beats:\n",
      "16.1\n",
      "40.7\n",
      "65.3\n",
      "89.9\n",
      "114.5\n",
      "139.1\n",
      "163.7\n"
     ]
    }
   ],
   "source": [
    "# Initialize empty list to hold the loop repeat data for all loops\n",
    "repeat_data = []\n",
    "\n",
    "for loop_index in range(n_loops):\n",
    "    \n",
    "    # Print information about current loop index to console\n",
    "    print(\"Loop Note:\", note_names[loop_index], \n",
    "          \"Loop Duration:\", loop_durations_in_beats[loop_index], \"beats\",\n",
    "          \"Loop Index:\", loop_index, \"Loop Start:\", loop_starts[loop_index])\n",
    "    \n",
    "    # Get duration and loop start values\n",
    "    duration = loop_durations_in_beats[loop_index]\n",
    "    start_point = loop_starts[loop_index]\n",
    "    \n",
    "    # Use integer division to get number of times the loop will repeat given the length of the song\n",
    "    loop_repeats = beats_in_song // duration\n",
    "    \n",
    "    # Initialize repeats list to hold repeat values for current loop\n",
    "    repeat_list = []\n",
    "    \n",
    "    print(\"This loop will start again on each of these beats:\")\n",
    "    for repeat in range(int(loop_repeats)):\n",
    "        \n",
    "        # Calculate beats where loop will repeat, adding in start_point to each\n",
    "        repeat = round(repeat * duration + start_point, 2) # round(x, 2) rounds to 2 decimal places\n",
    "        print(repeat)\n",
    "        \n",
    "        # Append (add) repeat value to repeat_list to 'save' it to the list\n",
    "        repeat_list.append(repeat)\n",
    "        \n",
    "    # Append the entire list to the repeat_list list.  So now we have a list of lists 0_o.\n",
    "    repeat_data.append(repeat_list)"
   ]
  },
  {
   "cell_type": "code",
   "execution_count": 7,
   "metadata": {
    "scrolled": false
   },
   "outputs": [
    {
     "data": {
      "text/plain": [
       "[[6.9, 24.6, 42.3, 60.0, 77.7, 95.4, 113.1, 130.8, 148.5, 166.2],\n",
       " [13.2, 32.8, 52.4, 72.0, 91.6, 111.2, 130.8, 150.4, 170.0],\n",
       " [18.6, 38.7, 58.8, 78.9, 99.0, 119.1, 139.2, 159.3],\n",
       " [1.1, 17.3, 33.5, 49.7, 65.9, 82.1, 98.3, 114.5, 130.7, 146.9, 163.1],\n",
       " [22.8, 55.6, 88.4, 121.2, 154.0],\n",
       " [21.6, 42.9, 64.2, 85.5, 106.8, 128.1, 149.4, 170.7],\n",
       " [16.1, 40.7, 65.3, 89.9, 114.5, 139.1, 163.7]]"
      ]
     },
     "execution_count": 7,
     "metadata": {},
     "output_type": "execute_result"
    }
   ],
   "source": [
    "repeat_data"
   ]
  },
  {
   "cell_type": "code",
   "execution_count": 8,
   "metadata": {},
   "outputs": [],
   "source": [
    "# Create a MIDIFile object\n",
    "MyMIDI = MIDIFile(1)\n",
    "MyMIDI.addTempo(track, time, tempo)"
   ]
  },
  {
   "cell_type": "code",
   "execution_count": 9,
   "metadata": {},
   "outputs": [
    {
     "name": "stdout",
     "output_type": "stream",
     "text": [
      "Loop Note: High Ab Loop Duration: 17.7 beats Loop Index: 0\n",
      "WRITING NOTE -- Pitch: 68 Repeat Time: 6.9 Duration: 5.0 Volume: 100\n",
      "WRITING NOTE -- Pitch: 68 Repeat Time: 24.6 Duration: 5.0 Volume: 100\n",
      "WRITING NOTE -- Pitch: 68 Repeat Time: 42.3 Duration: 5.0 Volume: 100\n",
      "WRITING NOTE -- Pitch: 68 Repeat Time: 60.0 Duration: 5.0 Volume: 100\n",
      "WRITING NOTE -- Pitch: 68 Repeat Time: 77.7 Duration: 5.0 Volume: 100\n",
      "WRITING NOTE -- Pitch: 68 Repeat Time: 95.4 Duration: 5.0 Volume: 100\n",
      "WRITING NOTE -- Pitch: 68 Repeat Time: 113.1 Duration: 5.0 Volume: 100\n",
      "WRITING NOTE -- Pitch: 68 Repeat Time: 130.8 Duration: 5.0 Volume: 100\n",
      "WRITING NOTE -- Pitch: 68 Repeat Time: 148.5 Duration: 5.0 Volume: 100\n",
      "WRITING NOTE -- Pitch: 68 Repeat Time: 166.2 Duration: 5.0 Volume: 100\n",
      "Loop Note: High F Loop Duration: 19.6 beats Loop Index: 1\n",
      "WRITING NOTE -- Pitch: 65 Repeat Time: 13.2 Duration: 5.0 Volume: 100\n",
      "WRITING NOTE -- Pitch: 65 Repeat Time: 32.8 Duration: 5.0 Volume: 100\n",
      "WRITING NOTE -- Pitch: 65 Repeat Time: 52.4 Duration: 5.0 Volume: 100\n",
      "WRITING NOTE -- Pitch: 65 Repeat Time: 72.0 Duration: 5.0 Volume: 100\n",
      "WRITING NOTE -- Pitch: 65 Repeat Time: 91.6 Duration: 5.0 Volume: 100\n",
      "WRITING NOTE -- Pitch: 65 Repeat Time: 111.2 Duration: 5.0 Volume: 100\n",
      "WRITING NOTE -- Pitch: 65 Repeat Time: 130.8 Duration: 5.0 Volume: 100\n",
      "WRITING NOTE -- Pitch: 65 Repeat Time: 150.4 Duration: 5.0 Volume: 100\n",
      "WRITING NOTE -- Pitch: 65 Repeat Time: 170.0 Duration: 5.0 Volume: 100\n",
      "Loop Note: C Loop Duration: 20.1 beats Loop Index: 2\n",
      "WRITING NOTE -- Pitch: 60 Repeat Time: 18.6 Duration: 5.0 Volume: 100\n",
      "WRITING NOTE -- Pitch: 60 Repeat Time: 38.7 Duration: 5.0 Volume: 100\n",
      "WRITING NOTE -- Pitch: 60 Repeat Time: 58.8 Duration: 5.0 Volume: 100\n",
      "WRITING NOTE -- Pitch: 60 Repeat Time: 78.9 Duration: 5.0 Volume: 100\n",
      "WRITING NOTE -- Pitch: 60 Repeat Time: 99.0 Duration: 5.0 Volume: 100\n",
      "WRITING NOTE -- Pitch: 60 Repeat Time: 119.1 Duration: 5.0 Volume: 100\n",
      "WRITING NOTE -- Pitch: 60 Repeat Time: 139.2 Duration: 5.0 Volume: 100\n",
      "WRITING NOTE -- Pitch: 60 Repeat Time: 159.3 Duration: 5.0 Volume: 100\n",
      "Loop Note: Eb Loop Duration: 16.2 beats Loop Index: 3\n",
      "WRITING NOTE -- Pitch: 63 Repeat Time: 1.1 Duration: 5.0 Volume: 100\n",
      "WRITING NOTE -- Pitch: 63 Repeat Time: 17.3 Duration: 5.0 Volume: 100\n",
      "WRITING NOTE -- Pitch: 63 Repeat Time: 33.5 Duration: 5.0 Volume: 100\n",
      "WRITING NOTE -- Pitch: 63 Repeat Time: 49.7 Duration: 5.0 Volume: 100\n",
      "WRITING NOTE -- Pitch: 63 Repeat Time: 65.9 Duration: 5.0 Volume: 100\n",
      "WRITING NOTE -- Pitch: 63 Repeat Time: 82.1 Duration: 5.0 Volume: 100\n",
      "WRITING NOTE -- Pitch: 63 Repeat Time: 98.3 Duration: 5.0 Volume: 100\n",
      "WRITING NOTE -- Pitch: 63 Repeat Time: 114.5 Duration: 5.0 Volume: 100\n",
      "WRITING NOTE -- Pitch: 63 Repeat Time: 130.7 Duration: 5.0 Volume: 100\n",
      "WRITING NOTE -- Pitch: 63 Repeat Time: 146.9 Duration: 5.0 Volume: 100\n",
      "WRITING NOTE -- Pitch: 63 Repeat Time: 163.1 Duration: 5.0 Volume: 100\n",
      "Loop Note: Db Loop Duration: 32.8 beats Loop Index: 4\n",
      "WRITING NOTE -- Pitch: 61 Repeat Time: 22.8 Duration: 5.0 Volume: 100\n",
      "WRITING NOTE -- Pitch: 61 Repeat Time: 55.6 Duration: 5.0 Volume: 100\n",
      "WRITING NOTE -- Pitch: 61 Repeat Time: 88.4 Duration: 5.0 Volume: 100\n",
      "WRITING NOTE -- Pitch: 61 Repeat Time: 121.2 Duration: 5.0 Volume: 100\n",
      "WRITING NOTE -- Pitch: 61 Repeat Time: 154.0 Duration: 5.0 Volume: 100\n",
      "Loop Note: Low Ab Loop Duration: 21.3 beats Loop Index: 5\n",
      "WRITING NOTE -- Pitch: 56 Repeat Time: 21.6 Duration: 5.0 Volume: 100\n",
      "WRITING NOTE -- Pitch: 56 Repeat Time: 42.9 Duration: 5.0 Volume: 100\n",
      "WRITING NOTE -- Pitch: 56 Repeat Time: 64.2 Duration: 5.0 Volume: 100\n",
      "WRITING NOTE -- Pitch: 56 Repeat Time: 85.5 Duration: 5.0 Volume: 100\n",
      "WRITING NOTE -- Pitch: 56 Repeat Time: 106.8 Duration: 5.0 Volume: 100\n",
      "WRITING NOTE -- Pitch: 56 Repeat Time: 128.1 Duration: 5.0 Volume: 100\n",
      "WRITING NOTE -- Pitch: 56 Repeat Time: 149.4 Duration: 5.0 Volume: 100\n",
      "WRITING NOTE -- Pitch: 56 Repeat Time: 170.7 Duration: 5.0 Volume: 100\n",
      "Loop Note: Low F Loop Duration: 24.6 beats Loop Index: 6\n",
      "WRITING NOTE -- Pitch: 53 Repeat Time: 16.1 Duration: 5.0 Volume: 100\n",
      "WRITING NOTE -- Pitch: 53 Repeat Time: 40.7 Duration: 5.0 Volume: 100\n",
      "WRITING NOTE -- Pitch: 53 Repeat Time: 65.3 Duration: 5.0 Volume: 100\n",
      "WRITING NOTE -- Pitch: 53 Repeat Time: 89.9 Duration: 5.0 Volume: 100\n",
      "WRITING NOTE -- Pitch: 53 Repeat Time: 114.5 Duration: 5.0 Volume: 100\n",
      "WRITING NOTE -- Pitch: 53 Repeat Time: 139.1 Duration: 5.0 Volume: 100\n",
      "WRITING NOTE -- Pitch: 53 Repeat Time: 163.7 Duration: 5.0 Volume: 100\n"
     ]
    }
   ],
   "source": [
    "# Iterate over each loop\n",
    "for loop_index in range(n_loops):\n",
    "    \n",
    "    # Print information about current loop index to console\n",
    "    print(\"Loop Note:\", note_names[loop_index], \n",
    "          \"Loop Duration:\", loop_durations_in_beats[loop_index], \"beats\",\n",
    "          \"Loop Index:\", loop_index,)\n",
    "    \n",
    "    # Get the MIDI pitch and note duration of the current loop\n",
    "    pitch = note_pitches[loop_index]\n",
    "    duration = note_durations_in_beats[loop_index]\n",
    "    # Get the repeat times for the current loop\n",
    "    repeats = repeat_data[loop_index]\n",
    "    \n",
    "    # Iterate over each repeat\n",
    "    for repeat in repeats:\n",
    "        \n",
    "        # Write information about each note to console\n",
    "        print(\"WRITING NOTE -- Pitch:\", pitch, \"Repeat Time:\", repeat, \"Duration:\", duration, \"Volume:\", volume)\n",
    "        \n",
    "        # Write a midi note for each repeat\n",
    "        MyMIDI.addNote(track, channel, pitch, repeat, duration, volume)"
   ]
  },
  {
   "cell_type": "code",
   "execution_count": 10,
   "metadata": {},
   "outputs": [],
   "source": [
    "# Write MyMIDI object to a MIDI file\n",
    "with open(\"my_Music_For_Airports_2_1.mid\", \"wb\") as output_file:\n",
    "    MyMIDI.writeFile(output_file)"
   ]
  }
 ],
 "metadata": {
  "kernelspec": {
   "display_name": "Python 3",
   "language": "python",
   "name": "python3"
  },
  "language_info": {
   "codemirror_mode": {
    "name": "ipython",
    "version": 3
   },
   "file_extension": ".py",
   "mimetype": "text/x-python",
   "name": "python",
   "nbconvert_exporter": "python",
   "pygments_lexer": "ipython3",
   "version": "3.7.6"
  }
 },
 "nbformat": 4,
 "nbformat_minor": 4
}
